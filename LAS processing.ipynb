{
 "cells": [
  {
   "cell_type": "code",
   "execution_count": 2,
   "id": "bulgarian-saskatchewan",
   "metadata": {},
   "outputs": [],
   "source": [
    "import numpy as np\n",
    "import laspy as lp\n",
    "import open3d as o3d\n",
    "\n",
    "from laspy.file import File\n"
   ]
  },
  {
   "cell_type": "code",
   "execution_count": 3,
   "id": "administrative-parks",
   "metadata": {},
   "outputs": [],
   "source": [
    "input_path=\"E:\\Downloads/Queensferry laz/\"\n",
    "dataname=\"Clipped_NT18SW\"\n",
    "point_cloud=lp.file.File(input_path+dataname+\".laz\", mode=\"r\")"
   ]
  },
  {
   "cell_type": "code",
   "execution_count": 4,
   "id": "exterior-nickname",
   "metadata": {},
   "outputs": [
    {
     "name": "stdout",
     "output_type": "stream",
     "text": [
      "X\n",
      "Y\n",
      "Z\n",
      "intensity\n",
      "flag_byte\n",
      "raw_classification\n",
      "scan_angle_rank\n",
      "user_data\n",
      "pt_src_id\n",
      "gps_time\n"
     ]
    }
   ],
   "source": [
    "pointformat = point_cloud.point_format\n",
    "for spec in point_cloud.point_format:\n",
    "    print(spec.name)"
   ]
  },
  {
   "cell_type": "code",
   "execution_count": 5,
   "id": "secure-intersection",
   "metadata": {},
   "outputs": [],
   "source": [
    "points = np.vstack((point_cloud.X, point_cloud.Y, point_cloud.Z)).transpose()"
   ]
  },
  {
   "cell_type": "code",
   "execution_count": null,
   "id": "gorgeous-relationship",
   "metadata": {},
   "outputs": [],
   "source": [
    "points"
   ]
  },
  {
   "cell_type": "code",
   "execution_count": 6,
   "id": "adapted-tissue",
   "metadata": {},
   "outputs": [],
   "source": [
    "intensity = point_cloud.intensity"
   ]
  },
  {
   "cell_type": "code",
   "execution_count": 7,
   "id": "lesser-trick",
   "metadata": {},
   "outputs": [],
   "source": [
    "raw_classification = point_cloud.raw_classification"
   ]
  },
  {
   "cell_type": "code",
   "execution_count": 8,
   "id": "naked-continent",
   "metadata": {},
   "outputs": [],
   "source": [
    "pcd = o3d.geometry.PointCloud()\n",
    "pcd.points = o3d.utility.Vector3dVector(points)\n"
   ]
  },
  {
   "cell_type": "code",
   "execution_count": 9,
   "id": "copyrighted-manitoba",
   "metadata": {},
   "outputs": [
    {
     "name": "stdout",
     "output_type": "stream",
     "text": [
      "[Open3D WARNING] [ViewControl] SetViewPoint() failed because window height and width are not set.\n"
     ]
    }
   ],
   "source": [
    "o3d.visualization.draw_geometries([pcd])\n"
   ]
  },
  {
   "cell_type": "code",
   "execution_count": null,
   "id": "lined-potter",
   "metadata": {},
   "outputs": [],
   "source": [
    "pcd.estimate_normals(search_param=o3d.geometry.KDTreeSearchParamHybrid(radius=1.2, max_nn=6))\n"
   ]
  },
  {
   "cell_type": "code",
   "execution_count": null,
   "id": "creative-flood",
   "metadata": {},
   "outputs": [],
   "source": []
  },
  {
   "cell_type": "code",
   "execution_count": 1,
   "id": "charming-ratio",
   "metadata": {},
   "outputs": [
    {
     "ename": "NameError",
     "evalue": "name 'o3d' is not defined",
     "output_type": "error",
     "traceback": [
      "\u001b[1;31m---------------------------------------------------------------------------\u001b[0m",
      "\u001b[1;31mNameError\u001b[0m                                 Traceback (most recent call last)",
      "\u001b[1;32m<ipython-input-1-dddfb3501599>\u001b[0m in \u001b[0;36m<module>\u001b[1;34m\u001b[0m\n\u001b[1;32m----> 1\u001b[1;33m \u001b[0mo3d\u001b[0m\u001b[1;33m.\u001b[0m\u001b[0mvisualization\u001b[0m\u001b[1;33m.\u001b[0m\u001b[0mdraw_geometries\u001b[0m\u001b[1;33m(\u001b[0m\u001b[1;33m[\u001b[0m\u001b[0mpcd\u001b[0m\u001b[1;33m]\u001b[0m\u001b[1;33m,\u001b[0m\u001b[0mpoint_show_normal\u001b[0m\u001b[1;33m=\u001b[0m\u001b[1;32mTrue\u001b[0m\u001b[1;33m)\u001b[0m\u001b[1;33m\u001b[0m\u001b[1;33m\u001b[0m\u001b[0m\n\u001b[0m",
      "\u001b[1;31mNameError\u001b[0m: name 'o3d' is not defined"
     ]
    }
   ],
   "source": [
    "o3d.visualization.draw_geometries([pcd],point_show_normal=True)"
   ]
  },
  {
   "cell_type": "code",
   "execution_count": null,
   "id": "australian-wings",
   "metadata": {},
   "outputs": [],
   "source": [
    "idx_normals=np.where(abs(np.asarray(pcd.normals)[...,2])<0.9)\n",
    "pcd_filtered = o3d.geometry.PointCloud()\n",
    "pcd_filtered.points = o3d.utility.Vector3dVector(points[idx_normals])"
   ]
  },
  {
   "cell_type": "code",
   "execution_count": null,
   "id": "plastic-worth",
   "metadata": {},
   "outputs": [],
   "source": [
    "o3d.visualization.draw_geometries([pcd_filtered])\n"
   ]
  },
  {
   "cell_type": "code",
   "execution_count": null,
   "id": "hourly-security",
   "metadata": {},
   "outputs": [],
   "source": [
    "poisson_mesh = o3d.geometry.TriangleMesh.create_from_point_cloud_poisson(pcd, depth=9, width=0, scale=1.2, linear_fit=True)[0]\n"
   ]
  },
  {
   "cell_type": "code",
   "execution_count": null,
   "id": "hearing-jonathan",
   "metadata": {},
   "outputs": [],
   "source": [
    "o3d.visualization.draw_geometries([poisson_mesh])\n"
   ]
  },
  {
   "cell_type": "code",
   "execution_count": null,
   "id": "moral-chick",
   "metadata": {},
   "outputs": [],
   "source": [
    "output_path=\"E:\\Downloads/Queensferry laz/\"\n",
    "\n",
    "o3d.io.write_triangle_mesh(output_path+\"poisson_mesh.ply\", poisson_mesh)\n"
   ]
  },
  {
   "cell_type": "code",
   "execution_count": null,
   "id": "connected-sheriff",
   "metadata": {},
   "outputs": [],
   "source": []
  }
 ],
 "metadata": {
  "kernelspec": {
   "display_name": "Python 3",
   "language": "python",
   "name": "python3"
  },
  "language_info": {
   "codemirror_mode": {
    "name": "ipython",
    "version": 3
   },
   "file_extension": ".py",
   "mimetype": "text/x-python",
   "name": "python",
   "nbconvert_exporter": "python",
   "pygments_lexer": "ipython3",
   "version": "3.6.12"
  }
 },
 "nbformat": 4,
 "nbformat_minor": 5
}
